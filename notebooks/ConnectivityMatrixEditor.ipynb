{
 "cells": [
  {
   "cell_type": "code",
   "execution_count": 1,
   "metadata": {},
   "outputs": [
    {
     "name": "stdout",
     "output_type": "stream",
     "text": [
      "22-07-2024 01:30:49 - DEBUG - tvbwidgets - Package is not fully installed\n",
      "22-07-2024 01:30:49 - DEBUG - tvbwidgets - Version read from the internal package.json file\n",
      "22-07-2024 01:30:50 - INFO - tvbwidgets - Version: 2.0.3\n",
      "2024-07-22 13:30:57,554 - WARNING - tvb.basic.readers - File 'hemispheres' not found in ZIP.\n"
     ]
    }
   ],
   "source": [
    "from tvbwidgets.ui.connectivity_matrix_editor_widget import ConnectivityMatrixEditor\n",
    "from tvb.datatypes.connectivity import Connectivity\n",
    "conn = Connectivity().from_file()   #defaults to connectivity_76.zip\n",
    "conn.configure()"
   ]
  },
  {
   "cell_type": "code",
   "execution_count": 2,
   "metadata": {},
   "outputs": [],
   "source": [
    "wid = ConnectivityMatrixEditor(conn)"
   ]
  },
  {
   "cell_type": "code",
   "execution_count": 3,
   "metadata": {},
   "outputs": [
    {
     "data": {
      "application/vnd.jupyter.widget-view+json": {
       "model_id": "440195fb849c46a291922f499d807750",
       "version_major": 2,
       "version_minor": 0
      },
      "text/plain": [
       "HBox(children=(Dropdown(options=('Quadrant 1', 'Quadrant 2', 'Quadrant 3', 'Quadrant 4'), value='Quadrant 1'),…"
      ]
     },
     "metadata": {},
     "output_type": "display_data"
    },
    {
     "data": {
      "application/vnd.jupyter.widget-view+json": {
       "model_id": "9cdcea32c3cd42c79e842fed2ffce7a2",
       "version_major": 2,
       "version_minor": 0
      },
      "text/plain": [
       "Tab(children=(MultiCanvas(height=1200, width=1200), MultiCanvas(height=1200, width=1200)), selected_index=0, t…"
      ]
     },
     "metadata": {},
     "output_type": "display_data"
    }
   ],
   "source": [
    "wid.display()"
   ]
  },
  {
   "cell_type": "code",
   "execution_count": 4,
   "metadata": {},
   "outputs": [
    {
     "data": {
      "text/html": [
       "<table>\n",
       "<thead><h3>Connectivity</h3></thead>\n",
       "<tbody>\n",
       "\n",
       "<tr><th></th><th style=\"text-align:left;width:80%\">value</th></tr>\n",
       "<tr><td>Number of connections</td><td style=\"text-align:left;\"><pre>1560</pre></td></tr>\n",
       "<tr><td>Number of regions</td><td style=\"text-align:left;\"><pre>76</pre></td></tr>\n",
       "<tr><td>Undirected</td><td style=\"text-align:left;\"><pre>False</pre></td></tr>\n",
       "<tr><td>areas</td><td style=\"text-align:left;\"><pre> [min, median, max] = [0, 2580.89, 10338.2] dtype = float64 shape = (76,)</pre></td></tr>\n",
       "<tr><td>tract_lengths</td><td style=\"text-align:left;\"><pre> [min, median, max] = [0, 71.6635, 153.486] dtype = float64 shape = (76, 76)</pre></td></tr>\n",
       "<tr><td>tract_lengths (connections)</td><td style=\"text-align:left;\"><pre> [min, median, max] = [0, 55.8574, 138.454] dtype = float64 shape = (1560,)</pre></td></tr>\n",
       "<tr><td>tract_lengths-non-zero</td><td style=\"text-align:left;\"><pre> [min, median, max] = [4.93328, 74.0646, 153.486] dtype = float64 shape = (5402,)</pre></td></tr>\n",
       "<tr><td>weights</td><td style=\"text-align:left;\"><pre> [min, median, max] = [0, 0, 3] dtype = float64 shape = (76, 76)</pre></td></tr>\n",
       "<tr><td>weights-non-zero</td><td style=\"text-align:left;\"><pre> [min, median, max] = [0.00462632, 2, 3] dtype = float64 shape = (1560,)</pre></td></tr>\n",
       "</tbody></table>"
      ],
      "text/plain": [
       "<tvb.datatypes.connectivity.Connectivity at 0x1b1d0765e70>"
      ]
     },
     "execution_count": 4,
     "metadata": {},
     "output_type": "execute_result"
    }
   ],
   "source": [
    "wid.get_connectivity()"
   ]
  },
  {
   "cell_type": "code",
   "execution_count": null,
   "metadata": {},
   "outputs": [],
   "source": []
  }
 ],
 "metadata": {
  "kernelspec": {
   "display_name": "Python 3 (ipykernel)",
   "language": "python",
   "name": "python3"
  },
  "language_info": {
   "codemirror_mode": {
    "name": "ipython",
    "version": 3
   },
   "file_extension": ".py",
   "mimetype": "text/x-python",
   "name": "python",
   "nbconvert_exporter": "python",
   "pygments_lexer": "ipython3",
   "version": "3.10.14"
  }
 },
 "nbformat": 4,
 "nbformat_minor": 4
}

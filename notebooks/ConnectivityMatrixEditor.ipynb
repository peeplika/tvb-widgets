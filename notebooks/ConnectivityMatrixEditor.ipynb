{
 "cells": [
  {
   "cell_type": "markdown",
   "metadata": {},
   "source": [
    "# Connectivity Matrix Editor Widget\n",
    "\n",
    "The connectivity matrix editor lets you edit the connectivity weights or tract_lengths, save the new connectivity, and view saved connectivities. Only 1 quadrant is displayed at a time.<br><br>\n",
    "This work has been produced as part of GSOC 2024."
   ]
  },
  {
   "cell_type": "code",
   "execution_count": null,
   "metadata": {},
   "outputs": [],
   "source": [
    "from tvbwidgets.ui.connectivity_matrix_editor_widget import ConnectivityMatrixEditor\n",
    "from tvb.datatypes.connectivity import Connectivity\n",
    "conn = Connectivity().from_file()   #defaults to connectivity_76.zip\n",
    "conn.configure()"
   ]
  },
  {
   "cell_type": "code",
   "execution_count": null,
   "metadata": {},
   "outputs": [],
   "source": [
    "wid = ConnectivityMatrixEditor(conn, size = 600)"
   ]
  },
  {
   "cell_type": "code",
   "execution_count": null,
   "metadata": {},
   "outputs": [],
   "source": [
    "wid.display()"
   ]
  },
  {
   "cell_type": "code",
   "execution_count": null,
   "metadata": {},
   "outputs": [],
   "source": [
    "# replace None in the method below with the gid of the connectivity you wish to export\n",
    "# if no gid is provided it will export the connectivity currently viewed\n",
    "\n",
    "wid.get_connectivity(gid=None)"
   ]
  }
 ],
 "metadata": {
  "kernelspec": {
   "display_name": "Python 3 (ipykernel)",
   "language": "python",
   "name": "python3"
  },
  "language_info": {
   "codemirror_mode": {
    "name": "ipython",
    "version": 3
   },
   "file_extension": ".py",
   "mimetype": "text/x-python",
   "name": "python",
   "nbconvert_exporter": "python",
   "pygments_lexer": "ipython3",
   "version": "3.10.14"
  }
 },
 "nbformat": 4,
 "nbformat_minor": 4
}
